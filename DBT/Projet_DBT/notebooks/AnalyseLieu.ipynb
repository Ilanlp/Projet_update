{
 "cells": [
  {
   "cell_type": "code",
   "execution_count": 7,
   "id": "17ff06ea-e507-4974-98ba-e5238137b52a",
   "metadata": {
    "scrolled": true
   },
   "outputs": [
    {
     "data": {
      "text/plain": [
       "id                            0\n",
       "id_local                      0\n",
       "source                        0\n",
       "title                         0\n",
       "description                   0\n",
       "company_name               3146\n",
       "location_name                 0\n",
       "latitude                   1653\n",
       "longitude                  1653\n",
       "date_created                  0\n",
       "date_updated                  0\n",
       "contract_type              2207\n",
       "contract_duration          5554\n",
       "working_hours              9300\n",
       "salary_min                 9234\n",
       "salary_max                 9235\n",
       "salary_currency               0\n",
       "salary_period              5883\n",
       "experience_required        4400\n",
       "category                      0\n",
       "sector                     8635\n",
       "application_url            7772\n",
       "source_url                    0\n",
       "skills                    11632\n",
       "remote_work               12606\n",
       "is_handicap_accessible     4400\n",
       "code_rome                  4400\n",
       "langues                   12274\n",
       "date_extraction               0\n",
       "dtype: int64"
      ]
     },
     "execution_count": 7,
     "metadata": {},
     "output_type": "execute_result"
    }
   ],
   "source": [
    "# 1. Chemin vers ton fichier (d'après ton os.listdir, ../seeds est correct)\n",
    "import pandas as pd \n",
    "csv_path = \"../seeds/analyses.csv\"\n",
    "df = pd.read_csv(csv_path)\n",
    " \n",
    "df.isnull().sum()\n"
   ]
  }
 ],
 "metadata": {
  "kernelspec": {
   "display_name": "Python 3 (ipykernel)",
   "language": "python",
   "name": "python3"
  },
  "language_info": {
   "codemirror_mode": {
    "name": "ipython",
    "version": 3
   },
   "file_extension": ".py",
   "mimetype": "text/x-python",
   "name": "python",
   "nbconvert_exporter": "python",
   "pygments_lexer": "ipython3",
   "version": "3.12.3"
  }
 },
 "nbformat": 4,
 "nbformat_minor": 5
}
